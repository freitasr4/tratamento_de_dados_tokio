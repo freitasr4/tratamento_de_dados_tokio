{
 "cells": [
  {
   "cell_type": "markdown",
   "metadata": {},
   "source": [
    "# Exercícios Módulo 5. Ficheiros (Enunciado)\n",
    "\n",
    "Considerações a ter em conta:\n",
    "\n",
    "* Guardar este documento com o seguinte formato para entrega: __M5_01_nome_apelido1_apelido2__\n",
    "* Fazer os exercícios com as ferramentas vistas nas sessões. \n",
    "* Comentar o código\n",
    "* Utilizar nomes de variáveis apropriados, se vai guardar uma nota, chamar a essa variável nota, não n ou x"
   ]
  },
  {
   "cell_type": "markdown",
   "metadata": {},
   "source": [
    "**1)  Neste exercício deverá criar um programa que abra e leia um ficheiro de texto, e nos proporcione a seguinte informação:**\n",
    "\n",
    "* Nome do ficheiro\n",
    "* Se o ficheiro está fechado ou não (True ou False)\n",
    "* O modo de abertura do ficheiro\n",
    "\n",
    "O ficheiro de texto irá denominar-se **provas.txt** e terá o seguinte conteúdo em texto plano (criar previamente):\n",
    "\n",
    "```\n",
    "Olá que tal estás \n",
    "Isto é uma prova \n",
    "Hoje não chove\n",
    "Aproxima-se o natal \n",
    "Até logo e boa \n",
    "continuação\n",
    "```\n",
    "\n",
    "Pesquisar na documentação que métodos nos proporcionam a informação requerida. Por último, listar o conteúdo do ficheiro.\n",
    "\n",
    "**Aviso importante**: *se quer ler um ficheiro que não se escreveu diretamente com Python, é possível que encontre erros de codificação ao \n",
    "mostrar alguns caracteres. Assegure-se de indicar a codificação do ficheiro manualmente durante a abertura como argumento no **open**, por\n",
    "exemplo com UTF-8*:\n",
    "\n",
    "```python\n",
    "open(..., encoding=\"utf8\")\n",
    "```"
   ]
  },
  {
   "cell_type": "code",
   "execution_count": 5,
   "metadata": {},
   "outputs": [],
   "source": [
    "file = open(\"provas.txt\", \"r\", encoding=\"utf8\")"
   ]
  },
  {
   "cell_type": "code",
   "execution_count": 3,
   "metadata": {},
   "outputs": [],
   "source": [
    "file.close()"
   ]
  },
  {
   "cell_type": "markdown",
   "metadata": {},
   "source": [
    "**2) Sobre o ficheiro anterior, obtenha a seguinte informação:**\n",
    "\n",
    "* Leitura de uma linha do ficheiro \n",
    "* Leitura do ficheiro linha a linha"
   ]
  },
  {
   "cell_type": "code",
   "execution_count": 12,
   "metadata": {},
   "outputs": [
    {
     "name": "stdout",
     "output_type": "stream",
     "text": [
      "OlÃ¡ que tal estÃ¡s \n",
      "\n"
     ]
    }
   ],
   "source": [
    "f = open(\"provas.txt\", \"r\")\n",
    "linha = f.readline()\n",
    "print(linha)\n",
    "f.close()"
   ]
  },
  {
   "cell_type": "code",
   "execution_count": 13,
   "metadata": {},
   "outputs": [
    {
     "name": "stdout",
     "output_type": "stream",
     "text": [
      "OlÃ¡ que tal estÃ¡s \n",
      "\n",
      "Isto Ã© uma prova \n",
      "\n",
      "Hoje nÃ£o chove\n",
      "\n",
      "Aproxima-se o natal \n",
      "\n",
      "AtÃ© logo e boa \n",
      "\n",
      "continuaÃ§Ã£o\n"
     ]
    }
   ],
   "source": [
    "f = open(\"provas.txt\", \"r\")\n",
    "for linha in f:\n",
    "    print(linha)\n",
    "f.close()"
   ]
  },
  {
   "cell_type": "code",
   "execution_count": 14,
   "metadata": {},
   "outputs": [],
   "source": [
    "file.close()"
   ]
  },
  {
   "cell_type": "markdown",
   "metadata": {},
   "source": [
    "**3)  Sobre o ficheiro anterior, fazer a seguinte operação:**\n",
    "\n",
    "* Abrir o ficheiro em modo de escrita (concatenando o conteúdo, sem substituir) e escrever uma nova linha de texto\n",
    "\n",
    "Comprovar que esta a funcionar corretamente imprimindo o conteúdo do ficheiro (terá que fechar e abrir a conexão para poder visualizar as mudanças)."
   ]
  },
  {
   "cell_type": "code",
   "execution_count": 15,
   "metadata": {},
   "outputs": [],
   "source": [
    "arquivo = open('provas.txt', 'a')"
   ]
  },
  {
   "cell_type": "code",
   "execution_count": 16,
   "metadata": {},
   "outputs": [
    {
     "data": {
      "text/plain": [
       "19"
      ]
     },
     "execution_count": 16,
     "metadata": {},
     "output_type": "execute_result"
    }
   ],
   "source": [
    "linha_nova = 'Nova linha de texto'\n",
    "arquivo.write(linha_nova)"
   ]
  },
  {
   "cell_type": "code",
   "execution_count": 17,
   "metadata": {},
   "outputs": [],
   "source": [
    "arquivo.close()"
   ]
  },
  {
   "cell_type": "code",
   "execution_count": 18,
   "metadata": {},
   "outputs": [],
   "source": [
    "arquivo = open('provas.txt', 'r')"
   ]
  },
  {
   "cell_type": "code",
   "execution_count": 19,
   "metadata": {},
   "outputs": [
    {
     "name": "stdout",
     "output_type": "stream",
     "text": [
      "OlÃ¡ que tal estÃ¡s \n",
      "Isto Ã© uma prova \n",
      "Hoje nÃ£o chove\n",
      "Aproxima-se o natal \n",
      "AtÃ© logo e boa \n",
      "continuaÃ§Ã£oNova linha de texto\n"
     ]
    }
   ],
   "source": [
    "conteudo = arquivo.read()\n",
    "print(conteudo)"
   ]
  },
  {
   "cell_type": "code",
   "execution_count": 20,
   "metadata": {},
   "outputs": [],
   "source": [
    "arquivo.close()"
   ]
  },
  {
   "cell_type": "markdown",
   "metadata": {},
   "source": [
    "**4) Sobre o ficheiro anterior, fazer a seguinte operação:**\n",
    "\n",
    "* Abrir o ficheiro em modo de escrita (substituindo o conteúdo) e escrever uma nova linha de texto\n",
    "\n",
    "Comprovar que esta a funcionar corretamente imprimindo o conteúdo do ficheiro (terá que fechar e abrir a conexão para poder visualizar as mudanças)."
   ]
  },
  {
   "cell_type": "code",
   "execution_count": 21,
   "metadata": {},
   "outputs": [],
   "source": [
    "arquivo = open('provas', 'w')"
   ]
  },
  {
   "cell_type": "code",
   "execution_count": 22,
   "metadata": {},
   "outputs": [
    {
     "data": {
      "text/plain": [
       "25"
      ]
     },
     "execution_count": 22,
     "metadata": {},
     "output_type": "execute_result"
    }
   ],
   "source": [
    "arquivo.write('Escrevendo uma nova linha')"
   ]
  },
  {
   "cell_type": "code",
   "execution_count": 23,
   "metadata": {},
   "outputs": [],
   "source": [
    "arquivo.close()"
   ]
  },
  {
   "cell_type": "code",
   "execution_count": 24,
   "metadata": {},
   "outputs": [],
   "source": [
    "arquivo = open('provas', 'r')"
   ]
  },
  {
   "cell_type": "code",
   "execution_count": 25,
   "metadata": {},
   "outputs": [
    {
     "name": "stdout",
     "output_type": "stream",
     "text": [
      "Escrevendo uma nova linha\n"
     ]
    }
   ],
   "source": [
    "conteudo = arquivo.read()\n",
    "print(conteudo)"
   ]
  },
  {
   "cell_type": "code",
   "execution_count": 26,
   "metadata": {},
   "outputs": [],
   "source": [
    "arquivo.close()"
   ]
  },
  {
   "cell_type": "markdown",
   "metadata": {},
   "source": [
    "**5) Neste exercício deverá criar um programa que leia os dados de um ficheiro de texto, que transforme cada linha num dicionário e adicione o dicionario a uma lista chamada pessoas. De seguida percorre-se a lista pessoas e para cada uma mostrar da forma expressa no exemplo:**\n",
    "\n",
    "```\n",
    "(id=1) Carlos Pérez => 05/01/1989 \n",
    "```\n",
    "\n",
    "O ficheiro de texto irá denominar-se **pessoas.txt** e terá o seguinte conteúdo em texto plano (criar previamente):\n",
    "\n",
    "\n",
    "```\n",
    "1;Carlos;Pérez;05/01/1989\n",
    "2;Manuel;Heredia;26/12/1973\n",
    "3;Rosa;Campos;12/06/1961\n",
    "4;David;García;25/07/2006\n",
    "```\n",
    "\n",
    "Os campos do dicionário serão por ordem: **id**, **nome**, **apelido** e **nascimento**.\n",
    "\n",
    "**Aviso importante**: *se quer ler um ficheiro que não se escreveu diretamente com Python,  é possível que encontre erros de codificação ao mostrar alguns caracteres. Assegure-se de indicar a codificação do ficheiro manualmente durante a abertura como um argumento no **open**, por exemplo com UTF-8*:\n",
    "\n",
    "```python\n",
    "open(..., encoding=\"utf8\")\n",
    "```\n",
    "\n",
    "Pista: é possível que tenha que recorrer a funções como replace ou split para poder modificar o texto de uma linha de texto. \n",
    "Pesquisar documentação sobre isso."
   ]
  },
  {
   "cell_type": "code",
   "execution_count": 27,
   "metadata": {},
   "outputs": [
    {
     "name": "stdout",
     "output_type": "stream",
     "text": [
      "(id=1) Carlos Pérez => 05/01/1989\n",
      "(id=2) Manuel Heredia => 26/12/1973\n",
      "(id=3) Rosa Campos => 12/06/1961\n",
      "(id=4) David García => 25/07/2006\n"
     ]
    }
   ],
   "source": [
    "pessoas = []\n",
    "\n",
    "with open('pessoas.txt', 'r', encoding='utf8') as arquivo:\n",
    "    linhas = arquivo.readlines()\n",
    "    \n",
    "    for linha in linhas:\n",
    "        dados = linha.strip().split(';')\n",
    "        pessoa = {\n",
    "            'id': int(dados[0]),\n",
    "            'nome': dados[1],\n",
    "            'apelido': dados[2],\n",
    "            'nascimento': dados[3]\n",
    "        }\n",
    "        pessoas.append(pessoa)\n",
    "        \n",
    "for pessoa in pessoas:\n",
    "    print('(id={}) {} {} => {}'.format(pessoa['id'], pessoa['nome'], pessoa['apelido'], pessoa['nascimento']))"
   ]
  },
  {
   "cell_type": "code",
   "execution_count": null,
   "metadata": {},
   "outputs": [],
   "source": []
  }
 ],
 "metadata": {
  "anaconda-cloud": {},
  "kernelspec": {
   "display_name": "Python 3 (ipykernel)",
   "language": "python",
   "name": "python3"
  },
  "language_info": {
   "codemirror_mode": {
    "name": "ipython",
    "version": 3
   },
   "file_extension": ".py",
   "mimetype": "text/x-python",
   "name": "python",
   "nbconvert_exporter": "python",
   "pygments_lexer": "ipython3",
   "version": "3.10.9"
  }
 },
 "nbformat": 4,
 "nbformat_minor": 1
}
